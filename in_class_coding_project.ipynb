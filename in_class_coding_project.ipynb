{
 "cells": [
  {
   "cell_type": "markdown",
   "metadata": {},
   "source": [
    "## In Class: 2019/01/14\n",
    "## Projective transforms\n",
    "\n",
    "Your task for the day is to write a program that simulates taking a digital photograph.  Imagine that we have a camera positioned at the origin, with a focal length of 1000 pixels and a sensor size of 2000 x 1000 pixels.  Coordinates.txt contains $p$ (point coordinates) and $I$ (intensity values) of a simulated landscape.  Use a projective transform to simulate a digital image of the landscape.  (Don't forget to crop your image to the sensor size). \n",
    "\n",
    "Some relevant equations:\n",
    "\n",
    "3D world coordinates to generalized camera coordinates:\n",
    "$$x = p_0/p_2$$\n",
    "$$y = p_1/p_2$$\n",
    "\n",
    "generalized camera coordinates to pixel values:\n",
    "$$ u = f x + c_x $$\n",
    "$$ v = f y + c_y, $$\n",
    "where $u$ and $v$ are the pixel locations, $f$ is the focal length, and $c_x$ and $c_y$ are the pixel coordinates of the image center.  "
   ]
  },
  {
   "cell_type": "code",
   "execution_count": 38,
   "metadata": {},
   "outputs": [],
   "source": [
    "import numpy as np\n",
    "import matplotlib.pyplot as plt\n",
    "# \n",
    "#  \n",
    "#\n",
    "data = np.loadtxt(\"coordinates.txt\")\n",
    "\n",
    "focal_length = 1000\n",
    "sensor_x = 2000\n",
    "sensor_y = 1000\n",
    "\n",
    "p0 = data[:, 0]\n",
    "p1 = data[:, 1]\n",
    "p2 = data[:, 2]\n",
    "\n",
    "I = data[:, 3]\n",
    "\n",
    "# all we're doing is mapping coordinates \n",
    "# x, y, z -> u, v\n",
    "\n",
    "x = p0/p2\n",
    "y = p1/p2\n",
    "\n",
    "u = focal_length*x + sensor_x / 2\n",
    "v = focal_length*y + sensor_y / 2 # the coordinates that input intensities map to\n",
    "u = u.astype(np.int) # these should be indices in our output array\n",
    "v = v.astype(np.int)\n"
   ]
  },
  {
   "cell_type": "code",
   "execution_count": 36,
   "metadata": {},
   "outputs": [],
   "source": [
    "r = 3\n",
    "\n",
    "out = np.zeros((sensor_y, sensor_x))\n",
    "\n",
    "for ii, uu, vv in zip(I, v, u):\n",
    "    try:\n",
    "        out[uu-r:uu+r, vv-r:vv+r] = ii\n",
    "    except:\n",
    "        pass\n",
    "out[out == 0] = np.nan"
   ]
  },
  {
   "cell_type": "code",
   "execution_count": 37,
   "metadata": {},
   "outputs": [
    {
     "data": {
      "image/png": "[encoded data removed]",
      "text/plain": [
       "<Figure size 864x576 with 1 Axes>"
      ]
     },
     "metadata": {},
     "output_type": "display_data"
    }
   ],
   "source": [
    "fig, ax = plt.subplots(figsize=(12, 8))\n",
    "ax.set_facecolor('black')\n",
    "ax.imshow(out)\n",
    "ax.set_xticks([])\n",
    "ax.set_yticks([])\n",
    "plt.show()"
   ]
  },
  {
   "cell_type": "code",
   "execution_count": null,
   "metadata": {
    "collapsed": true
   },
   "outputs": [],
   "source": []
  }
 ],
 "metadata": {
  "kernelspec": {
   "display_name": "base",
   "language": "python",
   "name": "base"
  },
  "language_info": {
   "codemirror_mode": {
    "name": "ipython",
    "version": 3
   },
   "file_extension": ".py",
   "mimetype": "text/x-python",
   "name": "python",
   "nbconvert_exporter": "python",
   "pygments_lexer": "ipython3",
   "version": "3.6.8"
  }
 },
 "nbformat": 4,
 "nbformat_minor": 2
}
